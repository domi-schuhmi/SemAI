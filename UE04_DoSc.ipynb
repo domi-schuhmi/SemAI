{
  "nbformat": 4,
  "nbformat_minor": 0,
  "metadata": {
    "colab": {
      "provenance": []
    },
    "kernelspec": {
      "name": "python3",
      "display_name": "Python 3"
    },
    "language_info": {
      "name": "python"
    }
  },
  "cells": [
    {
      "cell_type": "markdown",
      "source": [
        "Course Instructor: Bernd Neumayr, JKU\n",
        "\n",
        "# UE04- SPARQL Updata and RDF Datasets\n",
        "\n",
        "Complete the **8 tasks (1 point per task)** in the `3. SPARQL Update` sheet of `SemAI.jar` first and then transfer them to this notebook.\n",
        "\n",
        "For each task include:\n",
        "- A headline including the task number\n",
        "- The task description \n",
        "- Your solution in executable form: your solutions for SemAI.jar will make use of the default grap. In this notebook you have to transform your solutions according to the workaround exemplified in V04_SPARQL_Update.ipynb\n",
        "- After executing the update request, print a serizalization of the dataset in TriG format.  \n",
        "\n",
        "**Task 9 (2 points)**  is to develop a nice visualization of RDF datasets using `visualize_graph_pyvis` from UE02 as a starting point. The requirements are as follows:\n",
        "- Each named graph must be represented as an independent graph. This means, for example, that :Jane in :JanesGraph is a different node than :Jane in :BillsGraph. There are no edges between nodes in different graphs.\n",
        "- It is not strictly necessary to draw a box around each named graph, as seen in the slides. The different named graphs should simply be visually distinguishable and not overlap.\n",
        "- If not all nodes within a named graph are connected, make sure in the visualization that the named graph still forms a coherent visual unit in some way."
      ],
      "metadata": {
        "id": "HnpijZy2D1Hd"
      }
    },
    {
      "cell_type": "markdown",
      "source": [
        "## Preparations"
      ],
      "metadata": {
        "id": "Qepa9mSxke81"
      }
    },
    {
      "cell_type": "code",
      "source": [
        "# Install required packages\n",
        "!pip install -q rdflib     # comment to avoid re-install with every re-run"
      ],
      "metadata": {
        "id": "g3DA3VFJkjgA"
      },
      "execution_count": null,
      "outputs": []
    },
    {
      "cell_type": "markdown",
      "source": [
        "### Imports and Functions \n",
        "\n",
        "We are re-using the sparql_select function. "
      ],
      "metadata": {
        "id": "6QKzgH3akzic"
      }
    },
    {
      "cell_type": "code",
      "source": [
        "# Imports\n",
        "import pandas as pd\n",
        "import rdflib\n",
        "from rdflib import Graph, Literal, RDF, URIRef, BNode, Namespace\n",
        "\n",
        "\n",
        "# Convenient Functions\n",
        "def sparql_select(graph,query,use_prefixes=True):\n",
        "  results = graph.query(query)          # execute the query against the graph, resulting in a rdflib.plugins.sparql.processor.SPARQLResult\n",
        "  rows = []                             # a list of dictionaries, as intermediate format to construct the pandas DataFrame\n",
        "  for result in results:                # iterate over the result set of the query, a result is an instance of rdflib.query.ResultRow\n",
        "    row = {}                            #     create a dictionary to hold a single row of the result\n",
        "    for var in results.vars:            #     iterate over the variables of the SPARQLResult to add a dictionary entry for each variable\n",
        "      if (isinstance(result[var],URIRef) and use_prefixes):\n",
        "        row[var] = result[var].n3(graph.namespace_manager)   # use namespace prefixes to shorten URIs\n",
        "      else:\n",
        "        row[var] = result[var]                  \n",
        "    rows.append(row)                    #     add the dictionary (row) to the list \n",
        "  return pd.DataFrame(rows,columns=results.vars)        \n",
        "                                        # return a pandas DataFrame constructed from the list of dictionaries, with the variables from the result set as columns      \n"
      ],
      "metadata": {
        "id": "vufKuGpjkzOk"
      },
      "execution_count": null,
      "outputs": []
    },
    {
      "cell_type": "markdown",
      "source": [
        "# Task 1\n",
        "Sie beginnen mit einem leeren Dataset. Fügen Sie in den Default Graph Statements ein, die sagen, dass :Peter der Autor von :G1 ist, und :Mary Autor von :G2."
      ],
      "metadata": {
        "id": "VdAHZw8pEnRG"
      }
    },
    {
      "cell_type": "code",
      "source": [
        "g = rdflib.Graph().parse(format=\"trig\",data=\"\"\"\n",
        "  @prefix : <http://example.org/> .\"\"\")\n",
        "\n",
        "g.update(\"\"\"\n",
        "INSERT DATA {\n",
        "  :G1 :author :Mary .\n",
        "  :G2 :author :Peter .\n",
        "};\n",
        "\"\"\")\n",
        "\n",
        "print(g.serialize(format=\"trig\"))"
      ],
      "metadata": {
        "id": "VZJgSJRRErYM"
      },
      "execution_count": null,
      "outputs": []
    },
    {
      "cell_type": "code",
      "source": [
        "ds = rdflib.Dataset()\n",
        "\n",
        "ds.parse(format=\"trig\", data=\"\"\"\n",
        "@prefix : <http://example.org/> .\n",
        "\n",
        ":main {\n",
        "  :G1 :author :Mary .\n",
        "  :G2 :author :Peter .\n",
        "}\n",
        "\"\"\")\n",
        "\n",
        "print(ds.serialize(format=\"trig\"))"
      ],
      "metadata": {
        "id": "sOsDqa05o-jm"
      },
      "execution_count": null,
      "outputs": []
    },
    {
      "cell_type": "markdown",
      "source": [
        "# Task 2\n",
        "Schreiben Sie { :Mary :knows :Peter, :John, :Mary. } in den Named Graph :G1 und { :Peter :knows :Mary. :John :knows :Mary. } in den Named Graph :G2."
      ],
      "metadata": {
        "id": "oViSbUi2qhp7"
      }
    },
    {
      "cell_type": "code",
      "source": [
        "ds.update(\"\"\"\n",
        "INSERT DATA { \n",
        "  GRAPH :G1{\n",
        "    :Mary :knows :Mary;\n",
        "    :knows :John;\n",
        "    :knows :Peter .\n",
        "  }\n",
        "  GRAPH :G2{\n",
        "    :John :knows :Mary .\n",
        "    :Peter :knows :Mary .\n",
        "  }\n",
        "}\n",
        "\"\"\")\n",
        "\n",
        "print(ds.serialize(format=\"trig\"))"
      ],
      "metadata": {
        "id": "Ilb--yGqqlSu"
      },
      "execution_count": null,
      "outputs": []
    },
    {
      "cell_type": "markdown",
      "source": [
        "# Task 3\n",
        "Fragen Sie mittels INSERT-WHERE die :knows-Beziehungen aus :G2 ab und fügen deren inverse :knownBy-Beziehungen in den Default-Graph ein.\n",
        "Ihr Update Request darf nicht enthalten: [Mary, Peter, John]"
      ],
      "metadata": {
        "id": "ySVHRJ0fvKYL"
      }
    },
    {
      "cell_type": "code",
      "source": [
        "ds.update(\"\"\"\n",
        "INSERT { \n",
        "  GRAPH :main {\n",
        "    ?o :knownBy ?s . \n",
        "  } \n",
        "}\n",
        "WHERE {\n",
        "  GRAPH :G2 { \n",
        "    ?s :knows ?o. \n",
        "  } \n",
        "}\n",
        "\"\"\")\n",
        "\n",
        "print(ds.serialize(format=\"trig\"))"
      ],
      "metadata": {
        "id": "kzWwUCEavK5y"
      },
      "execution_count": null,
      "outputs": []
    },
    {
      "cell_type": "markdown",
      "source": [
        "# Task 4\n",
        "Löschen Sie mittels DELETE-WHERE alle :knownBy-Beziehungen aus dem Default-Graph.\n",
        "Ihr Update Request darf nicht enthalten: [Mary, Peter, John]"
      ],
      "metadata": {
        "id": "F3FHL0iCv4A3"
      }
    },
    {
      "cell_type": "code",
      "source": [
        "ds.update(\"\"\"\n",
        "DELETE { \n",
        "  GRAPH :main {\n",
        "    ?s :knownBy ?o . \n",
        "  }\n",
        "}\n",
        "WHERE { \n",
        "  GRAPH :main {\n",
        "    ?s :knownBy ?o .\n",
        "  }\n",
        "}\n",
        "\n",
        "\"\"\")\n",
        "\n",
        "print(ds.serialize(format=\"trig\"))"
      ],
      "metadata": {
        "id": "a-4Cg38Iv4BA"
      },
      "execution_count": null,
      "outputs": []
    },
    {
      "cell_type": "markdown",
      "source": [
        "# Task 5\n",
        "Ermitteln Sie mittels INSERT-WHERE zu jedem Named-Graph dessen Anzahl an Statements mit der Property :knows und schreiben Sie diese in den Default Graph.\n",
        "Ihr Update Request darf nicht enthalten: [G1, G2]"
      ],
      "metadata": {
        "id": "DKQ-SApKxE9S"
      }
    },
    {
      "cell_type": "code",
      "source": [
        "ds.update(\"\"\"\n",
        "INSERT { \n",
        "  GRAPH :main {\n",
        "    ?g :knowsCount ?n .\n",
        "    # filter not working?\n",
        "    # FILTER (?n != 0) .\n",
        "  }\n",
        "}\n",
        "WHERE {\n",
        "  GRAPH ?g { \n",
        "    SELECT (COUNT(*) AS ?n)\n",
        "    WHERE{ \n",
        "       ?p :knows ?o.\n",
        "    }\n",
        "  } \n",
        "}\n",
        "\n",
        "\"\"\")\n",
        "\n",
        "print(ds.serialize(format=\"trig\"))"
      ],
      "metadata": {
        "id": "a4K_LNrGxE9a"
      },
      "execution_count": null,
      "outputs": []
    },
    {
      "cell_type": "markdown",
      "source": [
        "# Task 6\n",
        "Ermitteln Sie mittels INSERT-WHERE die Anzahl an Named Graphs und schreiben Sie sie in den Default Graph.\n",
        "Ihr Update Request darf nicht enthalten: [2]"
      ],
      "metadata": {
        "id": "6sCawNGv1Uca"
      }
    },
    {
      "cell_type": "code",
      "source": [
        "ds.update(\"\"\"\n",
        "INSERT { \n",
        "  GRAPH :main {\n",
        "    :ds :graphCount ?n .\n",
        "  }\n",
        "}\n",
        "WHERE {\n",
        " SELECT (COUNT(DISTINCT ?g) AS ?n)\n",
        " WHERE{ \n",
        "   GRAPH ?g {\n",
        "    ?s ?p ?o .\n",
        "   }\n",
        "   FILTER (?g != :main)\n",
        " }\n",
        "}\n",
        "\n",
        "\"\"\")\n",
        "\n",
        "print(ds.serialize(format=\"trig\"))"
      ],
      "metadata": {
        "id": "J6APdFk81Uci"
      },
      "execution_count": null,
      "outputs": []
    },
    {
      "cell_type": "markdown",
      "source": [
        "# Task 7\n",
        "Verschieben Sie mittels DELETE-INSERT-WHERE alle Metadaten zu Named Graphs (also Statements die einen Named Graph als Subjekt haben) in den entsprechenden Named Graph.\n",
        "Ihr Update Request darf nicht enthalten: [G1, G2]"
      ],
      "metadata": {
        "id": "TzkZJIRK5SLT"
      }
    },
    {
      "cell_type": "code",
      "source": [
        "ds.update(\"\"\"\n",
        "DELETE {\n",
        "  GRAPH :main {\n",
        "    ?metadata  ?p ?o . \n",
        "  }\n",
        "}\n",
        "INSERT {\n",
        "  GRAPH ?metadata {?metadata ?p ?o . }\n",
        "}\n",
        "WHERE\n",
        "{ \n",
        "  GRAPH :main {\n",
        "    ?metadata ?p ?o .\n",
        "    FILTER(?metadata != :ds)\n",
        "  }\n",
        "}\n",
        "\n",
        "\n",
        "\"\"\")\n",
        "\n",
        "print(ds.serialize(format=\"trig\"))\n",
        "\n",
        "semai_query = \"\"\"\n",
        "prefix rdf: <http://www.w3.org/1999/02/22-rdf-syntax-ns#>\n",
        "prefix :    <http://example.org/>\n",
        "\n",
        "DELETE {?metadata  ?p ?o . }\n",
        "INSERT {GRAPH ?metadata {?metadata ?p ?o . }}\n",
        "WHERE\n",
        "{ \n",
        "  ?metadata ?p ?o .\n",
        "  FILTER(?metadata != :ds)\n",
        "}\n",
        "\"\"\""
      ],
      "metadata": {
        "id": "8hvex1j85SLZ"
      },
      "execution_count": null,
      "outputs": []
    },
    {
      "cell_type": "markdown",
      "source": [
        "# Task 8\n",
        "Schreiben Sie in jeden Named Graph ein Statement, dass der Autor des jeweiligen Named Graphs die :Susi kennt und aktualisieren Sie mit dem selben UpdateRequest den knowsCount.\n",
        "Ihr Update Request darf nicht enthalten: [Peter, Mary]"
      ],
      "metadata": {
        "id": "JeMuAi78_WHg"
      }
    },
    {
      "cell_type": "code",
      "source": [
        "ds.update(\"\"\"\n",
        "DELETE { GRAPH ?graph  {?graph  :knowsCount ?count . }}\n",
        "INSERT {\n",
        "  GRAPH ?graph {\n",
        "    ?author :knows :Susi .\n",
        "    ?graph :knowsCount ?newCount .\n",
        "  }\n",
        "}\n",
        "WHERE {\n",
        "  GRAPH ?graph {\n",
        "    ?graph :author ?author;\n",
        "       :knowsCount ?count .\n",
        "    BIND(?count + 1 AS ?newCount)\n",
        "  }\n",
        "}\n",
        "\"\"\")\n",
        "\n",
        "print(ds.serialize(format=\"trig\"))\n",
        "\n",
        "semai_query = \"\"\"\n",
        "prefix rdf: <http://www.w3.org/1999/02/22-rdf-syntax-ns#>\n",
        "prefix :    <http://example.org/>\n",
        "\n",
        "DELETE { GRAPH ?graph  {?graph  :knowsCount ?count . }}\n",
        "INSERT {\n",
        "  GRAPH ?graph {\n",
        "    ?author :knows :Susi .\n",
        "    ?graph :knowsCount ?newCount .\n",
        "  }\n",
        "}\n",
        "WHERE {\n",
        "  GRAPH ?graph {\n",
        "    ?graph :author ?author;\n",
        "       :knowsCount ?count .\n",
        "    BIND(?count + 1 AS ?newCount)\n",
        "  }\n",
        "}\n",
        "\"\"\""
      ],
      "metadata": {
        "id": "AZLz1Qdp_WHl"
      },
      "execution_count": null,
      "outputs": []
    }
  ]
}