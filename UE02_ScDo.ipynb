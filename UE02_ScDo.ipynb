{
 "cells": [
  {
   "cell_type": "markdown",
   "metadata": {
    "id": "BS4vo37YWsYf"
   },
   "source": [
    "# UE02 - RDF and RDF Schema\n",
    "\n",
    "Before you start with this notebook, complete the eight tasks in the `1. RDF` sheet of `SemAI.jar`. You will then make use of your solutions in this notebook. \n",
    "\n",
    "## Task 0: Preparation\n",
    "\n",
    "Preparation (Installs and Imports). \n",
    "\n",
    "\n"
   ]
  },
  {
   "cell_type": "code",
   "source": [
    "# Install required packages in the current Jupyter kernel\n",
    "!pip install -q rdflib \n",
    "!pip install -q pydot\n",
    "!pip install -q owlrl\n",
    "\n",
    "!pip install networkx pyvis\n",
    "\n",
    "import rdflib\n",
    "from rdflib import Graph, Literal, RDF, URIRef, BNode, Namespace, Dataset\n",
    "import networkx as nx\n",
    "from pyvis.network import Network\n",
    "import requests\n",
    "from IPython.display import display, HTML, Image\n",
    "import os\n",
    "import pydot\n",
    "import owlrl\n",
    "from rdflib.namespace import FOAF , XSD , RDFS \n",
    "\n"
   ],
   "metadata": {
    "id": "UNTabDt9SLuw"
   },
   "execution_count": null,
   "outputs": []
  },
  {
   "cell_type": "markdown",
   "source": [
    "## Task 1:  Improve interactive RDF graph visualization (1 pt)\n",
    "\n",
    "Improve function `visualize_graph_pyvis` (from `V01_rdf.ipynb`) as follows:\n",
    "- an optional `base` parameter\n",
    "- abbreviate the labels of nodes and edges in the same way as in `visualize_graph`. \n",
    "- make sure that blank node IDs are not shown in the visualization. \n",
    "\n",
    "Optional features: \n",
    "- use different graphical forms for literals and URIs\n",
    "- (add further improvements as you like)\n",
    "\n",
    "Test the function with `rdf_str` and with your solution to task `0. Intro` in the `1. RDF` sheet in `SemAI.jar`."
   ],
   "metadata": {
    "id": "vc2iBjkcQQvD"
   }
  },
  {
   "cell_type": "code",
   "source": [
    "rdf_str = \"\"\"BASE   <http://example.org/>\n",
    "PREFIX foaf: <http://xmlns.com/foaf/0.1/>\n",
    "PREFIX xsd: <http://www.w3.org/2001/XMLSchema#>\n",
    "PREFIX schema: <http://schema.org/>\n",
    "PREFIX dcterms: <http://purl.org/dc/terms/>\n",
    "PREFIX wd: <http://www.wikidata.org/entity/>\n",
    " \n",
    "<bob#me>\n",
    "   a foaf:Person ;\n",
    "   foaf:knows <alice#me> ;\n",
    "   schema:birthDate \"1990-07-04\"^^xsd:date ;\n",
    "   foaf:topic_interest wd:Q12418 .\n",
    "   \n",
    "wd:Q12418\n",
    "  dcterms:title \"Mona Lisa\" ;\n",
    "  dcterms:creator <http://dbpedia.org/resource/Leonardo_da_Vinci> .\n",
    "\n",
    "<http://data.europeana.eu/item/04802/243FA8618938F4117025F17A8B813C5F9AA4D619>\n",
    "  dcterms:subject wd:Q12418 .\n",
    "\"\"\"\n",
    "\n",
    "def visualize_graph_pyvis(g):\n",
    "\n",
    "    # Create the NetworkX graph\n",
    "    nx_graph = nx.DiGraph()\n",
    "\n",
    "    for s, p, o in g:\n",
    "        nx_graph.add_edge(s, o, label=p)\n",
    "\n",
    "    # Create a PyVis network graph\n",
    "    pyvis_graph = Network(notebook=True, cdn_resources='in_line',bgcolor=\"#EEEEEE\")\n",
    "    ###pyvis_graph.barnes_hut()\n",
    "    ###pyvis_graph.show_buttons(filter_=['physics'])\n",
    "\n",
    "    pyvis_graph.from_nx(nx_graph)\n",
    "\n",
    "    # Customize the node appearance\n",
    "    for node in pyvis_graph.nodes:\n",
    "        node[\"shape\"] = \"dot\"\n",
    "        node[\"size\"] = 10\n",
    "        node[\"font\"] = {\"size\": 10}\n",
    "\n",
    "    # Customize the edge appearance\n",
    "    for edge in pyvis_graph.edges:\n",
    "        edge[\"width\"] = 0.5\n",
    "        edge[\"font\"] = {\"size\": 8, \"align\": \"middle\"}\n",
    "        edge[\"arrows\"] = \"to\"\n",
    "\n",
    "    # Define the HTML file name\n",
    "    html_file = 'graph.html'    \n",
    "    \n",
    "    # Show the graph in the notebook\n",
    "    pyvis_graph.show(html_file)\n",
    "\n",
    "    # Check if the file exists\n",
    "    if os.path.isfile(html_file):\n",
    "        # Read the content of the HTML file\n",
    "        with open(html_file, 'r') as file:\n",
    "            html_content = file.read()\n",
    "        # Display the HTML content in the notebook\n",
    "        display(HTML(html_content))\n",
    "    else:\n",
    "        print(f\"File not found: {html_file}\")\n"
   ],
   "metadata": {
    "id": "Y3-jE3kNQAY4"
   },
   "execution_count": null,
   "outputs": []
  },
  {
   "cell_type": "markdown",
   "source": [
    "## Task 2:  Print RDF graph as HTML table (1 pt)\n",
    "\n",
    "Implement a function `rdf2htmltable(g)` that \n",
    "- takes as parameter an rdflib.Graph \n",
    "- generates and displays an HTML table representing that graph with\n",
    "  - one line per RDF statement \n",
    "  - three columns (subject, predicate, object) \n",
    "  - URIs should be shown in abbreviated form and be represented as links (`href=<full URI>`)\n",
    "\n",
    "Test the function with `rdf_str` and with your solution to task `0. Intro` in the `1. RDF` sheet in `SemAI.jar`."
   ],
   "metadata": {
    "id": "yF2WQ0YsQbhH"
   }
  },
  {
   "cell_type": "code",
   "source": [
    "def rdf2htmltable(g, title: str = 'Html_Task_Table'):\n",
    "    # Define a dictionary for storing the URI abbreviations\n",
    "    uri_dict = {}\n",
    "    uri_count = 1\n",
    "    \n",
    "    # Start building the HTML table\n",
    "    html = '<h1>{0}</h1>\\n'.format(title)\n",
    "    html += '<table>\\n'\n",
    "    html += '<tr><th>Subject</th><th>Predicate</th><th>Object</th></tr>\\n'\n",
    "    \n",
    "    # Loop through each RDF statement in the graph\n",
    "    for s, p, o in g:\n",
    "        # Abbreviate the URIs\n",
    "        if isinstance(s, URIRef):\n",
    "            if s not in uri_dict:\n",
    "                uri_count += 1\n",
    "            s_html = '<a href=\"{0}\">{1}</a>'.format(s, s)\n",
    "        else:\n",
    "            s_html = Literal(s).toPython()\n",
    "        \n",
    "        if isinstance(p, URIRef):\n",
    "            if p not in uri_dict:\n",
    "                uri_count += 1\n",
    "            p_html = '<a href=\"{0}\">{1}</a>'.format(p, p)\n",
    "        else:\n",
    "            p_html = Literal(p).toPython()\n",
    "        \n",
    "        if isinstance(o, URIRef):\n",
    "            if o not in uri_dict:\n",
    "                uri_count += 1\n",
    "            o_html = '<a href=\"{0}\">{1}</a>'.format(o, o)\n",
    "        else:\n",
    "            o_html = Literal(o).toPython()\n",
    "        \n",
    "        # Add the RDF statement to the HTML table\n",
    "        html += '<tr><td>{0}</td><td>{1}</td><td>{2}</td></tr>\\n'.format(s_html, p_html, o_html)\n",
    "    \n",
    "    # Finish building the HTML table\n",
    "    html += '</table>'\n",
    "    \n",
    "    # Display the HTML table\n",
    "    display(HTML(html))\n",
    "\n",
    "def test1_intro_html(): \n",
    "  solution = (\"\"\"\n",
    "  @prefix rdf:  <http://www.w3.org/1999/02/22-rdf-syntax-ns#> .\n",
    "  @prefix foaf: <http://xmlns.com/foaf/0.1/> .\n",
    "  @prefix ex:   <http://www.ex.org/> .\n",
    "  ex:John \n",
    "  rdf:type foaf:Person; \n",
    "  foaf:knows ex:Mary.\n",
    "  \"\"\")\n",
    "  g = Graph()\n",
    "  g.parse(format=\"text/turtle\", data = solution)\n",
    "  rdf2htmltable(g, 'Task Intro')\n",
    "\n",
    "def test2_task1_html(): \n",
    "  solution = (\"\"\"\n",
    "  @prefix rdf:  <http://www.w3.org/1999/02/22-rdf-syntax-ns#> .\n",
    "  @prefix rdfs: <http://www.w3.org/2000/01/rdf-schema#> .\n",
    "  @prefix xsd:  <http://www.w3.org/2001/XMLSchema#> .\n",
    "  @prefix foaf: <http://xmlns.com/foaf/0.1/> .\n",
    "  @prefix :     <http://www.ex.org/person#> .\n",
    "  :Jim\n",
    "  rdf:type foaf:Person .\n",
    "  :Mary\n",
    "  rdf:type foaf:Person ;\n",
    "  foaf:knows :Jim ;\n",
    "  foaf:age 27 .\n",
    "  \"\"\")\n",
    "  g = Graph()\n",
    "  g.parse(format=\"text/turtle\", data = solution)\n",
    "  rdf2htmltable(g)\n",
    "\n",
    "test1_intro_html()\n",
    "test2_task1_html()\n",
    "\n",
    "\n"
   ],
   "metadata": {
    "id": "Hz7PpFVjTkZG"
   },
   "execution_count": null,
   "outputs": []
  },
  {
   "cell_type": "markdown",
   "source": [
    "## Task 3: A function for parsing and displaying an RDF graph (1 pt)\n",
    "\n",
    "A function `parse_display_rdf(str)` that takes as parameter a string which represents an RDF graph in Turtle notation and \n",
    "- produces an rdflib.Graph from that string\n",
    "- prints the graph in Turte notation\n",
    "- prints the graph in RDF/XML\n",
    "- visualizes it using `visualize_graph` (to be taken from `V01_rdf.ipynb`)\n",
    "- visualizes it using (your improved version of) `visualize_graph_pyvis`\n",
    "- outputs it using `rdf2htmltable` (only if you have implemented this function)\n",
    "\n",
    "Test the function with `rdf_str` and with your solution to task `0. Intro` in the `1. RDF` sheet in `SemAI.jar`."
   ],
   "metadata": {
    "id": "AvL1cSUQQNFg"
   }
  },
  {
   "cell_type": "code",
   "source": [
    "# A function to produce a graphical visualization of an RDF graph\n",
    "def visualize_graph(g,base=None):\n",
    "\n",
    "  def node_id(graph,term):\n",
    "    if isinstance(term,Literal): return term.n3(graph.namespace_manager)\n",
    "    else: return f\"\\\"{term.n3(graph.namespace_manager)}\\\"\"\n",
    "\n",
    "  def add_node(dg,g,t,base):\n",
    "    if isinstance(t,URIRef):\n",
    "      lbl = f\"\\\"{t.n3(g.namespace_manager)}\\\"\"\n",
    "      if(base): lbl = lbl.replace(base,\"\")\n",
    "      if(len(lbl)>25): lbl = lbl[:12] + \"...\" +  lbl[-12:] \n",
    "      dg.add_node(pydot.Node( node_id(g,t), label=lbl ))\n",
    "    if isinstance(t,Literal):\n",
    "      dg.add_node(pydot.Node( node_id(g,t), label=t.n3(g.namespace_manager), shape=\"box\"))\n",
    "    if isinstance(t,BNode):\n",
    "      dg.add_node(pydot.Node( node_id(g,t), label=\"\"))    \n",
    "\n",
    "  def add_edge(dg,g,s,p,o):\n",
    "    dg.add_edge(pydot.Edge(node_id(g,s), node_id(g,o), label=f\"\\\"{p.n3(g.namespace_manager)}\\\"\"))\n",
    "\n",
    "  dg = pydot.Dot('my_graph', graph_type='digraph',layout='sfdp', splines='curved' )\n",
    "\n",
    "  for subj in g.subjects(None,None): add_node(dg,g,subj,base)\n",
    "  for obj in g.objects(None,None): add_node(dg,g,obj,base)\n",
    "  for (s,p,o) in g: add_edge(dg,g,s,p,o)   \n",
    "\n",
    "  display(Image(dg.create_png()))"
   ],
   "metadata": {
    "id": "Ube09Y1t5wXM"
   },
   "execution_count": null,
   "outputs": []
  },
  {
   "cell_type": "code",
   "source": [
    "def print_graph(g):\n",
    "  print('--------------ntriples-----------')\n",
    "  print(g.serialize(format=\"ntriples\"))\n",
    "  print('--------------turtle-----------')\n",
    "  print(g.serialize(format=\"turtle\"))\n",
    "  print('--------------xml-----------')\n",
    "  print(g.serialize(format=\"xml\",base=\"http://example.org/\"))\n",
    "  print('--------------visualize_graph-----------')\n",
    "  visualize_graph(g,base=\"http://example.org/\")\n",
    "  print('--------------visualize_graph_pyvis-----------')\n",
    "  visualize_graph_pyvis(g)\n",
    "  print('--------------rdf2htmltable-----------')\n",
    "  rdf2htmltable(g)\n",
    "\n",
    "def parse_display_rdf(graphstring: str):\n",
    "  g = Graph()\n",
    "  g.parse(format=\"text/turtle\", data = graphstring)\n",
    "  print_graph(g)\n",
    "\n",
    "def test1_intro(): \n",
    "  parse_display_rdf(\"\"\"\n",
    "  @prefix rdf:  <http://www.w3.org/1999/02/22-rdf-syntax-ns#> .\n",
    "  @prefix foaf: <http://xmlns.com/foaf/0.1/> .\n",
    "  @prefix ex:   <http://www.ex.org/> .\n",
    "  ex:John \n",
    "  rdf:type foaf:Person; \n",
    "  foaf:knows ex:Mary.\n",
    "  \"\"\")\n",
    "\n",
    "def test2_task1(): \n",
    "  parse_display_rdf(\"\"\"\n",
    "  @prefix rdf:  <http://www.w3.org/1999/02/22-rdf-syntax-ns#> .\n",
    "  @prefix rdfs: <http://www.w3.org/2000/01/rdf-schema#> .\n",
    "  @prefix xsd:  <http://www.w3.org/2001/XMLSchema#> .\n",
    "  @prefix foaf: <http://xmlns.com/foaf/0.1/> .\n",
    "  @prefix :     <http://www.ex.org/person#> .\n",
    "  :Jim\n",
    "  rdf:type foaf:Person .\n",
    "  :Mary\n",
    "  rdf:type foaf:Person ;\n",
    "  foaf:knows :Jim ;\n",
    "  foaf:age 27 .\n",
    "  \"\"\")\n",
    "\n",
    "test1_intro()\n",
    "test2_task1()\n"
   ],
   "metadata": {
    "id": "nr-PRsrzTnQP"
   },
   "execution_count": null,
   "outputs": []
  },
  {
   "cell_type": "markdown",
   "source": [
    "# Tasks 4-10 (1 point each)\n",
    "\n",
    "For each of the remaining 7 tasks in the \"1. RDF\" sheet in `SemAI.jar` do the following: \n",
    "- add a text cell in this notebook \n",
    "  - with the description of the task from `SemAI.jar` \n",
    "  - with number and title (e.g., **1. Simple Data Graph**)  from `SemAI.jar` as header \n",
    "- add a code cell where you apply `parse_display_rdf(str)` on your solution"
   ],
   "metadata": {
    "id": "6efAFC8dQexI"
   }
  },
  {
   "cell_type": "markdown",
   "source": [
    "## 0. Intro\n",
    "\n",
    "Create an RDF graph in Turtle notation. Use the RDF and FOAF vocabularies where applicable and the example namesspace (prefix ex:) for the other resources.\n",
    "\n",
    "John is a Person.<br>\n",
    "John knows Mary."
   ],
   "metadata": {
    "id": "yDNFlIoAzPqV"
   }
  },
  {
   "cell_type": "code",
   "source": [
    "solution = \"\"\"\n",
    "@prefix rdf:  <http://www.w3.org/1999/02/22-rdf-syntax-ns#> .\n",
    "@prefix foaf: <http://xmlns.com/foaf/0.1/> .\n",
    "@prefix ex:   <http://www.ex.org/> .\n",
    "ex:John \n",
    "rdf:type foaf:Person; \n",
    "foaf:knows ex:Mary.\n",
    "\"\"\"\n",
    "parse_display_rdf(solution)"
   ],
   "metadata": {
    "id": "El5vXt6YzNp3"
   },
   "execution_count": null,
   "outputs": []
  },
  {
   "cell_type": "markdown",
   "source": [
    "## 1. Simple Data Graph\n",
    "\n",
    "Create an RDF graph in Turtle notation. Use the FOAF vocabulary to state the following.\n",
    "\n",
    "Mary and Jim are persons.<br>\n",
    "Mary knows Jim.<br>\n",
    "Mary is 27 years old.<br>\n",
    "The URIs for the two persons should be http://www.ex.org/person#Mary and http://www.ex.org/person#Jim. <br>\n",
    "The age of Mary should be represented as an integer."
   ],
   "metadata": {
    "id": "lZAo0o0J7DBv"
   }
  },
  {
   "cell_type": "code",
   "source": [
    "solution = \"\"\"\n",
    "@prefix rdf:  <http://www.w3.org/1999/02/22-rdf-syntax-ns#> .\n",
    "@prefix rdfs: <http://www.w3.org/2000/01/rdf-schema#> .\n",
    "@prefix xsd:  <http://www.w3.org/2001/XMLSchema#> .\n",
    "@prefix foaf: <http://xmlns.com/foaf/0.1/> .\n",
    "@prefix :     <http://www.ex.org/person#> .\n",
    ":Jim\n",
    "rdf:type foaf:Person .\n",
    ":Mary\n",
    "rdf:type foaf:Person ;\n",
    "foaf:knows :Jim ;\n",
    "foaf:age 27 .\n",
    "\"\"\"\n",
    "parse_display_rdf(solution)"
   ],
   "metadata": {
    "id": "5BkY7Hu07DB1"
   },
   "execution_count": null,
   "outputs": []
  },
  {
   "cell_type": "markdown",
   "source": [
    "## 2. Simple Schema\n",
    "\n",
    "Create a vocabulary using RDFS in Turtle. Specify\n",
    "\n",
    "*   Classes Company, Employee, and Person\n",
    "*   Property worksFor between Employee and Company\n",
    "*   Property salary of Employee with Integer as data type\n",
    "*   Class Employee is a subclass of Person\n",
    "\n",
    "Use XSD for data types. The URIs of classes and properties are in namespace <http://www.ex.org/vocabulary#>, for example, <http://www.ex.org/vocabulary#Company>"
   ],
   "metadata": {
    "id": "xH4UTmOD7Bcs"
   }
  },
  {
   "cell_type": "code",
   "source": [
    "solution = \"\"\"\n",
    "@prefix rdf:  <http://www.w3.org/1999/02/22-rdf-syntax-ns#>.\n",
    "@prefix rdfs: <http://www.w3.org/2000/01/rdf-schema#> .\n",
    "@prefix xsd:  <http://www.w3.org/2001/XMLSchema#> .\n",
    "@prefix :     <http://www.ex.org/vocabulary#> .\n",
    "\n",
    ":Company rdf:type rdfs:Class .\n",
    ":Employee rdf:type rdfs:Class .\n",
    ":Person rdf:type rdfs:Class .\n",
    "\n",
    ":worksFor rdf:type rdf:Property ;\n",
    "rdfs:domain :Employee;\n",
    "rdfs:range :Company .\n",
    "\n",
    ":salary rdf:type rdf:Property ;\n",
    "rdfs:domain :Employee;\n",
    "rdfs:range xsd:integer .\n",
    "\n",
    ":Employee rdfs:subClassOf :Person .\n",
    "\"\"\"\n",
    "parse_display_rdf(solution)"
   ],
   "metadata": {
    "id": "yUifgFXy7Bc0"
   },
   "execution_count": null,
   "outputs": []
  },
  {
   "cell_type": "markdown",
   "source": [
    "## 3. Reification \n",
    "\n",
    "Create an RDF graph in Turtle notation. Use the RDF vocabulary where applicable and the example namesspace (ex:) for all other resources (ex:Mary, ex:John, ex:says, ex:loves). Hint: the lecture slides contain a similar reification example.\n",
    "\n",
    "Mary says that John loves her.\n"
   ],
   "metadata": {
    "id": "00gj4L6pEFtY"
   }
  },
  {
   "cell_type": "code",
   "source": [
    "solution = \"\"\"\n",
    "@prefix rdf:  <http://www.w3.org/1999/02/22-rdf-syntax-ns#> .\n",
    "@prefix ex:   <http://www.ex.org/> .\n",
    "ex:statement rdf:type rdf:Statement;\n",
    "rdf:subject ex:John;\n",
    "rdf:predicate ex:loves;\n",
    "rdf:object ex:Mary .\n",
    "ex:Mary ex:says ex:statement .\n",
    "\"\"\"\n",
    "parse_display_rdf(solution)"
   ],
   "metadata": {
    "id": "nlTjONq5EFtu"
   },
   "execution_count": null,
   "outputs": []
  },
  {
   "cell_type": "markdown",
   "source": [
    "## 4. Blank Node\n",
    "\n",
    "Create an RDF graph in Turtle notation. Use the RDF and FOAF vocabularies where applicable and the example namesspace (ex:) for the other resources.\n",
    "\n",
    "John knows a person, who knows Mary.\n",
    "Use a blank node to represent that anonymous person."
   ],
   "metadata": {
    "id": "JrG_KaBrHHxs"
   }
  },
  {
   "cell_type": "code",
   "source": [
    "solution = \"\"\"\n",
    "@prefix rdf:  <http://www.w3.org/1999/02/22-rdf-syntax-ns#> .\n",
    "@prefix foaf: <http://xmlns.com/foaf/0.1/> .\n",
    "@prefix ex:   <http://www.ex.org/> .\n",
    "\n",
    "_:Dominik rdf:type foaf:Person ;\n",
    "foaf:knows ex:Mary .\n",
    "\n",
    "ex:John foaf:knows _:Dominik .\n",
    "\"\"\"\n",
    "parse_display_rdf(solution)"
   ],
   "metadata": {
    "id": "1WRhzUENHHx7"
   },
   "execution_count": null,
   "outputs": []
  },
  {
   "cell_type": "markdown",
   "source": [
    "## 5. Multiple Classification\n",
    "\n",
    "Create an RDF graph in Turtle notation. Use the RDF vocabulary where applicable and the example namesspace (ex:) for the other resources.\n",
    "\n",
    "John is an instance of SoccerPlayer and of Student."
   ],
   "metadata": {
    "id": "WwGlRhXbV1xt"
   }
  },
  {
   "cell_type": "code",
   "source": [
    "solution = \"\"\"\n",
    "@prefix rdf:  <http://www.w3.org/1999/02/22-rdf-syntax-ns#> .\n",
    "@prefix ex:   <http://www.ex.org/> .\n",
    "\n",
    "ex:John rdf:type ex:SoccerPlayer, ex:Student .\n",
    "\"\"\"\n",
    "parse_display_rdf(solution)"
   ],
   "metadata": {
    "id": "ua5G3QOoV1xz"
   },
   "execution_count": null,
   "outputs": []
  },
  {
   "cell_type": "markdown",
   "source": [
    "## 6. Metamodeling\n",
    "\n",
    "Create an RDF graph in Turtle notation. Use the RDF and RDF Schema vocabularies where applicable and the example namesspace (ex:) for the other resources.\n",
    "\n",
    "Dog and Cat are instances of Species and subclasses of Animal.\n",
    "Lassie is an instance of Dog."
   ],
   "metadata": {
    "id": "CiV_nfjdWeN7"
   }
  },
  {
   "cell_type": "code",
   "source": [
    "solution = \"\"\"\n",
    "@prefix rdf:  <http://www.w3.org/1999/02/22-rdf-syntax-ns#> .\n",
    "@prefix rdfs: <http://www.w3.org/2000/01/rdf-schema#> .\n",
    "@prefix ex:   <http://www.ex.org/> .\n",
    "\n",
    "ex:Dog rdf:type ex:Species ;\n",
    "rdfs:subClassOf ex:Animal .\n",
    "\n",
    "ex:Cat rdf:type ex:Species ;\n",
    "rdfs:subClassOf ex:Animal .\n",
    "\n",
    "ex:Lassie rdf:type ex:Dog .\n",
    "\"\"\"\n",
    "parse_display_rdf(solution)"
   ],
   "metadata": {
    "id": "A8--lmXzWeOB"
   },
   "execution_count": null,
   "outputs": []
  },
  {
   "cell_type": "markdown",
   "source": [
    "## 7. Properties\n",
    "\n",
    "Create an RDF graph in Turtle notation. Use the RDF and RDF Schema vocabularies where applicable and the example namesspace (ex:) for the other resources, e.g., ex:childOf, ex:descendantOf.\n",
    "\n",
    "Everyone who is a child of someone, is also a descendant of that someone."
   ],
   "metadata": {
    "id": "AFjYT7g1YTrt"
   }
  },
  {
   "cell_type": "code",
   "source": [
    "solution = \"\"\"\n",
    "@prefix rdf:  <http://www.w3.org/1999/02/22-rdf-syntax-ns#> .\n",
    "@prefix rdfs: <http://www.w3.org/2000/01/rdf-schema#> .\n",
    "@prefix ex:   <http://www.ex.org/> .\n",
    "\n",
    "ex:childOf rdfs:subPropertyOf ex:descendantOf.\n",
    "\"\"\"\n",
    "parse_display_rdf(solution)"
   ],
   "metadata": {
    "id": "6EQBNNVPYTrt"
   },
   "execution_count": null,
   "outputs": []
  }
 ],
 "metadata": {
  "kernelspec": {
   "display_name": "Python 3",
   "language": "python",
   "name": "python3"
  },
  "language_info": {
   "codemirror_mode": {
    "name": "ipython",
    "version": 3
   },
   "file_extension": ".py",
   "mimetype": "text/x-python",
   "name": "python",
   "nbconvert_exporter": "python",
   "pygments_lexer": "ipython3",
   "version": "3.6.7"
  },
  "colab": {
   "provenance": [],
   "collapsed_sections": [
    "vc2iBjkcQQvD",
    "yF2WQ0YsQbhH",
    "AvL1cSUQQNFg",
    "yDNFlIoAzPqV",
    "lZAo0o0J7DBv",
    "xH4UTmOD7Bcs",
    "00gj4L6pEFtY",
    "JrG_KaBrHHxs",
    "WwGlRhXbV1xt",
    "CiV_nfjdWeN7",
    "AFjYT7g1YTrt"
   ]
  }
 },
 "nbformat": 4,
 "nbformat_minor": 0
}
